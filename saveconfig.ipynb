{
 "cells": [
  {
   "cell_type": "code",
   "execution_count": 1,
   "metadata": {},
   "outputs": [],
   "source": [
    "import requests\n",
    "import json\n",
    "import pandas as pd\n",
    "import pickle\n",
    "import re\n",
    "import warnings\n",
    "from keplergl import KeplerGl\n",
    "warnings.filterwarnings('ignore')"
   ]
  },
  {
   "cell_type": "code",
   "execution_count": 2,
   "metadata": {},
   "outputs": [
    {
     "name": "stdout",
     "output_type": "stream",
     "text": [
      "User Guide: https://docs.kepler.gl/docs/keplergl-jupyter\n"
     ]
    },
    {
     "data": {
      "application/vnd.jupyter.widget-view+json": {
       "model_id": "a71745d6d97e459db5cff54a74c1f49d",
       "version_major": 2,
       "version_minor": 0
      },
      "text/plain": [
       "KeplerGl(config={'mapState': {'latitude': 51.0447, 'longitude': -114.0719, 'zoom': 9}}, data={'incidents': {'i…"
      ]
     },
     "metadata": {},
     "output_type": "display_data"
    }
   ],
   "source": [
    "\n",
    "\n",
    "df = pd.read_csv('./Traffic_Incidents.csv')\n",
    "\n",
    "        # df = pd.DataFrame(data)\n",
    "map_config = {\n",
    "    \"mapState\": {\n",
    "    \"latitude\": 51.0447,\n",
    "    \"longitude\": -114.0719,\n",
    "    \"zoom\": 9\n",
    "    }\n",
    "}\n",
    "\n",
    "map_1 = KeplerGl(height=1000,config=map_config)\n",
    "        \n",
    "map_1.add_data(data=df, name='incidents')\n",
    "display(map_1, height=1000)\n",
    "\n",
    "        \n",
    "        \n"
   ]
  },
  {
   "cell_type": "code",
   "execution_count": 3,
   "metadata": {},
   "outputs": [
    {
     "name": "stdout",
     "output_type": "stream",
     "text": [
      "Map saved to abc.html!\n"
     ]
    }
   ],
   "source": [
    "config = map_1.config\n",
    "# file_path = os.path.join(app.static_folder, 'kepler_map.html')\n",
    "map_1.save_to_html(config=config, file_name='abc.html')"
   ]
  }
 ],
 "metadata": {
  "kernelspec": {
   "display_name": "Python 3",
   "language": "python",
   "name": "python3"
  },
  "language_info": {
   "codemirror_mode": {
    "name": "ipython",
    "version": 3
   },
   "file_extension": ".py",
   "mimetype": "text/x-python",
   "name": "python",
   "nbconvert_exporter": "python",
   "pygments_lexer": "ipython3",
   "version": "3.8.8"
  }
 },
 "nbformat": 4,
 "nbformat_minor": 4
}
